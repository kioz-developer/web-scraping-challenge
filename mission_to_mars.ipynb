{
 "cells": [
  {
   "cell_type": "code",
   "execution_count": 7,
   "id": "measured-positive",
   "metadata": {},
   "outputs": [],
   "source": [
    "from splinter import Browser\n",
    "from bs4 import BeautifulSoup\n",
    "from webdriver_manager.chrome import ChromeDriverManager"
   ]
  },
  {
   "cell_type": "code",
   "execution_count": 8,
   "id": "quantitative-smooth",
   "metadata": {},
   "outputs": [],
   "source": [
    "url = \"https://redplanetscience.com/\""
   ]
  },
  {
   "cell_type": "code",
   "execution_count": 12,
   "id": "cubic-withdrawal",
   "metadata": {},
   "outputs": [
    {
     "name": "stderr",
     "output_type": "stream",
     "text": [
      "\n",
      "\n",
      "====== WebDriver manager ======\n",
      "Current google-chrome version is 90.0.4430\n",
      "Get LATEST driver version for 90.0.4430\n",
      "Driver [C:\\Users\\Wayssen\\.wdm\\drivers\\chromedriver\\win32\\90.0.4430.24\\chromedriver.exe] found in cache\n"
     ]
    }
   ],
   "source": [
    "executable_path = {'executable_path': ChromeDriverManager().install()}\n",
    "browser = Browser('chrome', **executable_path, headless=False)\n",
    "    \n",
    "browser.visit(url)\n",
    "    \n",
    "html = browser.html\n",
    "soup = BeautifulSoup(html, \"html.parser\")\n",
    "\n",
    "headlines = soup.findAll(\"div\", class_=\"content_title\")\n",
    "articles = soup.findAll(\"div\", class_=\"article_teaser_body\")\n",
    "    \n",
    "# Quit the browser\n",
    "browser.quit()"
   ]
  },
  {
   "cell_type": "code",
   "execution_count": 13,
   "id": "downtown-category",
   "metadata": {},
   "outputs": [],
   "source": [
    "# Extracting titles and articles\n",
    "titles = []\n",
    "paragraphs = []\n",
    "\n",
    "for headline in headlines:\n",
    "    titles.append(headline.get_text())\n",
    "    \n",
    "for article in articles:\n",
    "    paragraphs.append(article.get_text())"
   ]
  },
  {
   "cell_type": "code",
   "execution_count": 16,
   "id": "educated-promotion",
   "metadata": {},
   "outputs": [
    {
     "data": {
      "text/plain": [
       "[\"10.9 Million Names Now Aboard NASA's Perseverance Mars Rover\",\n",
       " \"Mars Helicopter Attached to NASA's Perseverance Rover\",\n",
       " 'Sensors on Mars 2020 Spacecraft Answer Long-Distance Call From Earth',\n",
       " \"Common Questions about InSight's 'Mole'\",\n",
       " \"NASA-JPL Names 'Rolling Stones Rock' on Mars\",\n",
       " \"Q&A with the Student Who Named Ingenuity, NASA's Mars Helicopter\",\n",
       " \"NASA's Mars Perseverance Rover Passes Flight Readiness Review\",\n",
       " \"NASA InSight's 'Mole' Is Out of Sight\",\n",
       " \"NASA Engineers Checking InSight's Weather Sensors\",\n",
       " 'NASA Prepares for Moon and Mars With New Addition to Its Deep Space Network',\n",
       " \"NASA's Perseverance Rover Will Carry First Spacesuit Materials to Mars\",\n",
       " '7 Things to Know About the Mars 2020 Perseverance Rover Mission',\n",
       " 'Two Rovers to Roll on Mars Again: Curiosity and Mars 2020',\n",
       " \"NASA's InSight Flexes Its Arm While Its 'Mole' Hits Pause\",\n",
       " \"NASA's Perseverance Rover 100 Days Out\"]"
      ]
     },
     "execution_count": 16,
     "metadata": {},
     "output_type": "execute_result"
    }
   ],
   "source": [
    "titles"
   ]
  },
  {
   "cell_type": "code",
   "execution_count": null,
   "id": "ethical-advisory",
   "metadata": {},
   "outputs": [],
   "source": []
  }
 ],
 "metadata": {
  "kernelspec": {
   "display_name": "Python [conda env:pythonData] *",
   "language": "python",
   "name": "conda-env-pythonData-py"
  },
  "language_info": {
   "codemirror_mode": {
    "name": "ipython",
    "version": 3
   },
   "file_extension": ".py",
   "mimetype": "text/x-python",
   "name": "python",
   "nbconvert_exporter": "python",
   "pygments_lexer": "ipython3",
   "version": "3.6.10"
  }
 },
 "nbformat": 4,
 "nbformat_minor": 5
}
