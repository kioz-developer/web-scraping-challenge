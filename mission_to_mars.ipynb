{
 "cells": [
  {
   "cell_type": "code",
   "execution_count": 7,
   "id": "sitting-halifax",
   "metadata": {},
   "outputs": [],
   "source": [
    "from splinter import Browser\n",
    "from bs4 import BeautifulSoup\n",
    "from webdriver_manager.chrome import ChromeDriverManager"
   ]
  },
  {
   "cell_type": "code",
   "execution_count": 8,
   "id": "precise-israel",
   "metadata": {},
   "outputs": [],
   "source": [
    "url = \"https://redplanetscience.com/\""
   ]
  },
  {
   "cell_type": "code",
   "execution_count": 12,
   "id": "average-current",
   "metadata": {},
   "outputs": [
    {
     "name": "stderr",
     "output_type": "stream",
     "text": [
      "\n",
      "\n",
      "====== WebDriver manager ======\n",
      "Current google-chrome version is 90.0.4430\n",
      "Get LATEST driver version for 90.0.4430\n",
      "Driver [C:\\Users\\Wayssen\\.wdm\\drivers\\chromedriver\\win32\\90.0.4430.24\\chromedriver.exe] found in cache\n"
     ]
    }
   ],
   "source": [
    "executable_path = {'executable_path': ChromeDriverManager().install()}\n",
    "browser = Browser('chrome', **executable_path, headless=False)\n",
    "    \n",
    "browser.visit(url)\n",
    "    \n",
    "html = browser.html\n",
    "soup = BeautifulSoup(html, \"html.parser\")\n",
    "\n",
    "headlines = soup.findAll(\"div\", class_=\"content_title\")\n",
    "articles = soup.findAll(\"div\", class_=\"article_teaser_body\")\n",
    "    \n",
    "# Quit the browser\n",
    "browser.quit()"
   ]
  },
  {
   "cell_type": "code",
   "execution_count": 13,
   "id": "dimensional-regression",
   "metadata": {},
   "outputs": [],
   "source": [
    "# Extracting titles and articles\n",
    "titles = []\n",
    "paragraphs = []\n",
    "\n",
    "for headline in headlines:\n",
    "    titles.append(headline.get_text())\n",
    "    \n",
    "for article in articles:\n",
    "    paragraphs.append(article.get_text())"
   ]
  },
  {
   "cell_type": "code",
   "execution_count": 15,
   "id": "designing-contents",
   "metadata": {},
   "outputs": [
    {
     "data": {
      "text/plain": [
       "[\"As part of NASA's 'Send Your Name to Mars' campaign, they've been stenciled onto three microchips along with essays from NASA's 'Name the Rover' contest. Next stop: Mars.\",\n",
       " \"The team also fueled the rover's sky crane to get ready for this summer's history-making launch.\",\n",
       " \"Instruments tailored to collect data during the descent of NASA's next rover through the Red Planet's atmosphere have been checked in flight.\",\n",
       " 'The following Q&As with members of the team answer some of the most common questions about the burrowing device, part of a science instrument called the Heat Flow and Physical Properties Package (HP3).',\n",
       " \"NASA's Mars InSight mission honored one of the biggest bands of all time at Pasadena concert.\",\n",
       " 'As a longtime fan of space exploration, Vaneeza Rupani appreciates the creativity and collaboration involved with trying to fly on another planet.',\n",
       " \"\\u200bThe agency's Mars 2020 mission has one more big prelaunch review – the Launch Readiness Review, on July 27.\",\n",
       " \"Now that the heat probe is just below the Martian surface, InSight's arm will scoop some additional soil on top to help it keep digging so it can take Mars' temperature.\",\n",
       " 'An electronics issue is suspected to be preventing the sensors from sharing their data about Mars weather with the spacecraft.',\n",
       " 'Robotic spacecraft will be able to communicate with the dish using radio waves and lasers.',\n",
       " 'In a Q&A, spacesuit designer Amy Ross explains how five samples, including a piece of helmet visor, will be tested aboard the rover, which is targeting a July 30 launch. ',\n",
       " \"NASA's next rover to the Red Planet is slated to launch no earlier than July 30. These highlights will get you up to speed on the ambitious mission.\",\n",
       " 'They look like twins. But under the hood, the rover currently exploring the Red Planet and the one launching there this summer have distinct science tools and roles to play.',\n",
       " \"Now that the lander's robotic arm has helped the mole get underground, it will resume science activities that have been on hold.\",\n",
       " \"Mark your calendars: The agency's latest rover has only about 8,640,000 seconds to go before it touches down on the Red Planet, becoming history's next Mars car.\"]"
      ]
     },
     "execution_count": 15,
     "metadata": {},
     "output_type": "execute_result"
    }
   ],
   "source": [
    "paragraphs"
   ]
  },
  {
   "cell_type": "code",
   "execution_count": null,
   "id": "ruled-fiber",
   "metadata": {},
   "outputs": [],
   "source": []
  }
 ],
 "metadata": {
  "kernelspec": {
   "display_name": "Python [conda env:pythonData] *",
   "language": "python",
   "name": "conda-env-pythonData-py"
  },
  "language_info": {
   "codemirror_mode": {
    "name": "ipython",
    "version": 3
   },
   "file_extension": ".py",
   "mimetype": "text/x-python",
   "name": "python",
   "nbconvert_exporter": "python",
   "pygments_lexer": "ipython3",
   "version": "3.6.10"
  }
 },
 "nbformat": 4,
 "nbformat_minor": 5
}
