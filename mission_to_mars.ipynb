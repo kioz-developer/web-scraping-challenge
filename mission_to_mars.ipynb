{
 "cells": [
  {
   "cell_type": "code",
   "execution_count": 1,
   "id": "measured-positive",
   "metadata": {},
   "outputs": [],
   "source": [
    "import pandas as pd\n",
    "import time\n",
    "from splinter import Browser\n",
    "from bs4 import BeautifulSoup\n",
    "from webdriver_manager.chrome import ChromeDriverManager"
   ]
  },
  {
   "cell_type": "code",
   "execution_count": 2,
   "id": "chicken-guatemala",
   "metadata": {},
   "outputs": [],
   "source": [
    "def open_brower():\n",
    "    executable_path = {'executable_path': ChromeDriverManager().install()}\n",
    "    browser = Browser('chrome', **executable_path, headless=False)\n",
    "    return browser\n",
    "    \n",
    "def get_html_content(browser, url):\n",
    "    # Visti url\n",
    "    browser.visit(url)\n",
    "\n",
    "    # wait to load page\n",
    "    time.sleep(1)\n",
    "\n",
    "    # Parse html content\n",
    "    html = browser.html\n",
    "    soup = BeautifulSoup(html, \"html.parser\")\n",
    "    return soup\n",
    "    "
   ]
  },
  {
   "cell_type": "code",
   "execution_count": 3,
   "id": "aerial-belfast",
   "metadata": {},
   "outputs": [
    {
     "name": "stderr",
     "output_type": "stream",
     "text": [
      "\n",
      "\n",
      "====== WebDriver manager ======\n",
      "Current google-chrome version is 90.0.4430\n",
      "Get LATEST driver version for 90.0.4430\n",
      "Driver [C:\\Users\\Wayssen\\.wdm\\drivers\\chromedriver\\win32\\90.0.4430.24\\chromedriver.exe] found in cache\n"
     ]
    }
   ],
   "source": [
    "# Open the browser\n",
    "browser = open_brower()"
   ]
  },
  {
   "cell_type": "code",
   "execution_count": 27,
   "id": "cubic-withdrawal",
   "metadata": {},
   "outputs": [],
   "source": [
    "# Collect the latest News Title and Paragraph Text\n",
    "soup = get_html_content(browser, \"https://redplanetscience.com/\")\n",
    "\n",
    "title = soup.find(\"div\", class_=\"content_title\").get_text()\n",
    "paragraph = soup.find(\"div\", class_=\"article_teaser_body\").get_text()"
   ]
  },
  {
   "cell_type": "code",
   "execution_count": 28,
   "id": "hairy-analysis",
   "metadata": {},
   "outputs": [],
   "source": [
    "# Find the current Featured Mars Image\n",
    "space_images_mars_url = \"https://spaceimages-mars.com\"\n",
    "soup = get_html_content(browser, space_images_mars_url)\n",
    "\n",
    "featured_image_url = f'{space_images_mars_url}/{soup.find(\"img\", class_=\"headerimage\")[\"src\"]}'"
   ]
  },
  {
   "cell_type": "code",
   "execution_count": 30,
   "id": "secure-research",
   "metadata": {},
   "outputs": [],
   "source": [
    "# Scrape facts about Mars\n",
    "facts_df = pd.read_html(\"https://galaxyfacts-mars.com\")\n",
    "facts_table = facts_df[1].to_html()"
   ]
  },
  {
   "cell_type": "code",
   "execution_count": 15,
   "id": "downtown-category",
   "metadata": {},
   "outputs": [],
   "source": [
    "# Obtain high resolution images for each of Mar's hemispheres\n",
    "mars_hemispheres_url = \"https://marshemispheres.com/\"\n",
    "soup = get_html_content(browser, mars_hemispheres_url)\n",
    "\n",
    "# List of links\n",
    "elements = soup.select(\".description a\")\n",
    "links = [ f\"{mars_hemispheres_url}/{element['href']}\" for element in elements]\n",
    "\n",
    "for link in links:\n",
    "    soup = get_html_content(browser, link)"
   ]
  },
  {
   "cell_type": "code",
   "execution_count": 37,
   "id": "educated-promotion",
   "metadata": {},
   "outputs": [],
   "source": []
  },
  {
   "cell_type": "code",
   "execution_count": null,
   "id": "ethical-advisory",
   "metadata": {},
   "outputs": [],
   "source": [
    "# Quit the browser\n",
    "browser.quit()"
   ]
  }
 ],
 "metadata": {
  "kernelspec": {
   "display_name": "Python [conda env:pythonData] *",
   "language": "python",
   "name": "conda-env-pythonData-py"
  },
  "language_info": {
   "codemirror_mode": {
    "name": "ipython",
    "version": 3
   },
   "file_extension": ".py",
   "mimetype": "text/x-python",
   "name": "python",
   "nbconvert_exporter": "python",
   "pygments_lexer": "ipython3",
   "version": "3.6.10"
  }
 },
 "nbformat": 4,
 "nbformat_minor": 5
}
