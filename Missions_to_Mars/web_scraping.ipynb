{
 "cells": [
  {
   "cell_type": "code",
   "execution_count": 7,
   "id": "italian-pricing",
   "metadata": {},
   "outputs": [],
   "source": [
    "from splinter import Browser\n",
    "from bs4 import BeautifulSoup\n",
    "from webdriver_manager.chrome import ChromeDriverManager"
   ]
  },
  {
   "cell_type": "code",
   "execution_count": 8,
   "id": "freelance-crazy",
   "metadata": {},
   "outputs": [],
   "source": [
    "def scrape(url):\n",
    "    executable_path = {'executable_path': ChromeDriverManager().install()}\n",
    "    browser = Browser('chrome', **executable_path, headless=False)\n",
    "    \n",
    "    browser.visit(url)\n",
    "    \n",
    "    html = browser.html\n",
    "    soup = BeautifulSoup(html, \"html.parser\")\n",
    "    \n",
    "    listings = {}\n",
    "    listings[\"headline\"] = soup.find(\"a\", class_=\"title\").get_text()\n",
    "    listings[\"price\"] = soup.find(\"h4\", class_=\"price\").get_text()\n",
    "    \n",
    "    # Quit the browser\n",
    "    browser.quit()\n",
    "    \n",
    "    return listings"
   ]
  },
  {
   "cell_type": "code",
   "execution_count": 9,
   "id": "silent-profession",
   "metadata": {},
   "outputs": [
    {
     "name": "stderr",
     "output_type": "stream",
     "text": [
      "\n",
      "\n",
      "====== WebDriver manager ======\n",
      "Current google-chrome version is 90.0.4430\n",
      "Get LATEST driver version for 90.0.4430\n",
      "There is no [win32] chromedriver for browser 90.0.4430 in cache\n",
      "Get LATEST driver version for 90.0.4430\n",
      "Trying to download new driver from https://chromedriver.storage.googleapis.com/90.0.4430.24/chromedriver_win32.zip\n",
      "Driver has been saved in cache [C:\\Users\\Wayssen\\.wdm\\drivers\\chromedriver\\win32\\90.0.4430.24]\n"
     ]
    }
   ],
   "source": [
    "list_sc = scrape('https://webscraper.io/test-sites/e-commerce/allinone/phones/touch')"
   ]
  },
  {
   "cell_type": "code",
   "execution_count": 10,
   "id": "italian-georgia",
   "metadata": {},
   "outputs": [
    {
     "data": {
      "text/plain": [
       "{'headline': 'Nokia 123', 'price': '$24.99'}"
      ]
     },
     "execution_count": 10,
     "metadata": {},
     "output_type": "execute_result"
    }
   ],
   "source": [
    "list_sc"
   ]
  },
  {
   "cell_type": "code",
   "execution_count": null,
   "id": "young-latin",
   "metadata": {},
   "outputs": [],
   "source": []
  }
 ],
 "metadata": {
  "kernelspec": {
   "display_name": "Python [conda env:pythonData] *",
   "language": "python",
   "name": "conda-env-pythonData-py"
  },
  "language_info": {
   "codemirror_mode": {
    "name": "ipython",
    "version": 3
   },
   "file_extension": ".py",
   "mimetype": "text/x-python",
   "name": "python",
   "nbconvert_exporter": "python",
   "pygments_lexer": "ipython3",
   "version": "3.6.10"
  }
 },
 "nbformat": 4,
 "nbformat_minor": 5
}
